{
  "nbformat": 4,
  "nbformat_minor": 0,
  "metadata": {
    "colab": {
      "provenance": []
    },
    "kernelspec": {
      "name": "python3",
      "display_name": "Python 3"
    },
    "language_info": {
      "name": "python"
    }
  },
  "cells": [
    {
      "cell_type": "markdown",
      "source": [
        "## Numpy\n",
        "\n",
        "\n",
        "---\n",
        "\n"
      ],
      "metadata": {
        "id": "HUH77m1ALz8i"
      }
    },
    {
      "cell_type": "code",
      "source": [
        "# import numpy\n",
        "import numpy as np"
      ],
      "metadata": {
        "id": "HWrynygeHyIa"
      },
      "execution_count": 2,
      "outputs": []
    },
    {
      "cell_type": "markdown",
      "source": [
        "### 練習 1：softmax 函數"
      ],
      "metadata": {
        "id": "yCCYkP82HNhL"
      }
    },
    {
      "cell_type": "code",
      "execution_count": 3,
      "metadata": {
        "colab": {
          "base_uri": "https://localhost:8080/"
        },
        "id": "hU2svvNDGUMJ",
        "outputId": "95e0d493-5e52-4c08-ceb8-93ea80619e4d"
      },
      "outputs": [
        {
          "output_type": "stream",
          "name": "stdout",
          "text": [
            "[0.9464627  0.01218516 0.48035957 0.94025931 0.1185697  0.03116268\n",
            " 0.36656555 0.6229597  0.92035999 0.53250491]\n",
            "[0.14770344 0.05802819 0.09267543 0.14679001 0.06454183 0.05913994\n",
            " 0.08270742 0.10687965 0.14389786 0.09763623]\n"
          ]
        }
      ],
      "source": [
        "# 設定總共類別\n",
        "c = 10\n",
        "# 模擬輸出 logits\n",
        "x = np.random.rand(c)\n",
        "# 計算分子與分母\n",
        "exp_x = np.exp(x)\n",
        "sum_exp_x = np.sum(exp_x)\n",
        "# p_i = softmax(x_i)\n",
        "p = exp_x/sum_exp_x\n",
        "# print\n",
        "print(x)\n",
        "print(p)"
      ]
    },
    {
      "cell_type": "markdown",
      "source": [
        "### 練習 2：Linear Layer + ReLU *Activation*"
      ],
      "metadata": {
        "id": "zEUVlpg5JJu3"
      }
    },
    {
      "cell_type": "code",
      "source": [
        "# 設定輸入維度\n",
        "d_in = 10\n",
        "# 設定輸出維度\n",
        "d_out = 30\n",
        "\n",
        "# 模擬神經網路輸入\n",
        "x = np.ones((d_in, 1))\n",
        "# 模擬神經網路權重\n",
        "W = np.random.rand(d_out, d_in) * 10 - 5\n",
        "# 模擬神經網路偏差值\n",
        "b = np.random.rand(d_out, 1) * 10 - 5\n",
        "#\n",
        "y = np.dot(W,x)+b\n",
        "y[y<0] = 0\n",
        "# print\n",
        "print(x)\n",
        "print(y)"
      ],
      "metadata": {
        "colab": {
          "base_uri": "https://localhost:8080/"
        },
        "id": "ey2tY6MnJVXR",
        "outputId": "825dd84f-35e9-40f3-cc76-266be37ef35a"
      },
      "execution_count": 4,
      "outputs": [
        {
          "output_type": "stream",
          "name": "stdout",
          "text": [
            "[[1.]\n",
            " [1.]\n",
            " [1.]\n",
            " [1.]\n",
            " [1.]\n",
            " [1.]\n",
            " [1.]\n",
            " [1.]\n",
            " [1.]\n",
            " [1.]]\n",
            "[[ 0.        ]\n",
            " [22.71246941]\n",
            " [19.74678804]\n",
            " [ 0.        ]\n",
            " [ 0.        ]\n",
            " [12.23280661]\n",
            " [17.42714782]\n",
            " [ 8.26883934]\n",
            " [ 0.        ]\n",
            " [10.29482706]\n",
            " [ 0.        ]\n",
            " [ 0.        ]\n",
            " [ 0.        ]\n",
            " [ 5.57978177]\n",
            " [ 4.13622324]\n",
            " [ 0.        ]\n",
            " [20.44251694]\n",
            " [ 4.20230453]\n",
            " [ 3.94400192]\n",
            " [ 0.        ]\n",
            " [ 6.39038933]\n",
            " [ 0.        ]\n",
            " [16.72557274]\n",
            " [ 0.03097387]\n",
            " [ 6.23634976]\n",
            " [ 0.        ]\n",
            " [ 0.        ]\n",
            " [ 0.        ]\n",
            " [ 0.        ]\n",
            " [ 0.        ]]\n"
          ]
        }
      ]
    },
    {
      "cell_type": "markdown",
      "source": [
        "## pandas\n",
        "\n",
        "---\n",
        "\n"
      ],
      "metadata": {
        "id": "XDsmFGsQL_So"
      }
    },
    {
      "cell_type": "code",
      "source": [
        "# import pandas\n",
        "import pandas as pd\n",
        "\n",
        "# import numpy\n",
        "import numpy as np"
      ],
      "metadata": {
        "id": "Y2sC88weRW1a"
      },
      "execution_count": 5,
      "outputs": []
    },
    {
      "cell_type": "markdown",
      "source": [
        "### 練習 1：數值轉換"
      ],
      "metadata": {
        "id": "PdMLzKL2M11u"
      }
    },
    {
      "cell_type": "code",
      "source": [
        "# read data\n",
        "data = pd.read_csv('./data/467410-2022-08.csv', skiprows=1)\n",
        "\n",
        "# 定義map函數\n",
        "def UVI_trans(UVI: int) -> str:\n",
        "  if 0<=UVI and UVI<=2 :\n",
        "    return '低'\n",
        "  elif 3<=UVI and UVI<=5 :\n",
        "    return '中'\n",
        "  elif 6<=UVI and UVI<=7 :\n",
        "    return '高'\n",
        "  elif 8<=UVI and UVI<=10 :\n",
        "    return '甚高'\n",
        "  else:\n",
        "    return '極高'\n",
        "\n",
        "# 轉換\n",
        "UVI_index = data['UVI Max']\n",
        "UVI_level = UVI_index.map(UVI_trans)\n",
        "new_data1 = pd.concat([UVI_index, UVI_level], axis=1)\n",
        "new_data1.columns = ['日最高紫外線指數', '日最高紫外線強度等級']\n",
        "new_data1.index = np.arange(1, len(UVI_index)+1)\n",
        "\n",
        "# print\n",
        "print(new_data1)\n",
        "print('低',np.sum(new_data1['日最高紫外線強度等級']=='低'),'次')\n",
        "print('中',np.sum(new_data1['日最高紫外線強度等級']=='中'),'次')\n",
        "print('高',np.sum(new_data1['日最高紫外線強度等級']=='高'),'次')\n",
        "print('甚高',np.sum(new_data1['日最高紫外線強度等級']=='甚高'),'次')\n",
        "print('極高',np.sum(new_data1['日最高紫外線強度等級']=='極高'),'次')"
      ],
      "metadata": {
        "colab": {
          "base_uri": "https://localhost:8080/"
        },
        "id": "O7l0VbQsR2d3",
        "outputId": "54253007-c7f7-4b39-f2fc-d6446921183d"
      },
      "execution_count": 6,
      "outputs": [
        {
          "output_type": "stream",
          "name": "stdout",
          "text": [
            "    日最高紫外線指數 日最高紫外線強度等級\n",
            "1         11         極高\n",
            "2          4          中\n",
            "3         11         極高\n",
            "4         11         極高\n",
            "5         14         極高\n",
            "6         12         極高\n",
            "7          8         甚高\n",
            "8         11         極高\n",
            "9          7          高\n",
            "10        13         極高\n",
            "11        10         甚高\n",
            "12        15         極高\n",
            "13        14         極高\n",
            "14        12         極高\n",
            "15         8         甚高\n",
            "16        11         極高\n",
            "17        13         極高\n",
            "18         7          高\n",
            "19        14         極高\n",
            "20        13         極高\n",
            "21        13         極高\n",
            "22        14         極高\n",
            "23        13         極高\n",
            "24         8         甚高\n",
            "25        14         極高\n",
            "26        13         極高\n",
            "27        13         極高\n",
            "28        12         極高\n",
            "29        11         極高\n",
            "30        13         極高\n",
            "31        13         極高\n",
            "低 0 次\n",
            "中 1 次\n",
            "高 2 次\n",
            "甚高 4 次\n",
            "極高 24 次\n"
          ]
        }
      ]
    },
    {
      "cell_type": "markdown",
      "source": [
        "### 練習 2：條件篩選"
      ],
      "metadata": {
        "id": "JY3FNzXOcPx3"
      }
    },
    {
      "cell_type": "code",
      "source": [
        "# read data\n",
        "data = pd.read_csv('./data/467410-2022-08.csv', skiprows=1)\n",
        "length = len(data['Precp'])\n",
        "data['Precp'][data['Precp']=='T']=0\n",
        "\n",
        "# 定義計算函數\n",
        "# 降水強度 = 降水量/降水強度\n",
        "def cal_intensity(row:pd.Series)->float:\n",
        "  if row['Precp']==0.0:\n",
        "    return 0.0\n",
        "  elif row['PrecpHour']==0.0:\n",
        "    return 0.0\n",
        "  else:\n",
        "    return float(row['Precp'])/float(row['PrecpHour'])\n",
        "\n",
        "# 串接資料\n",
        "intensity = pd.DataFrame([0.0]*length)\n",
        "new_data2 = pd.concat([data['Precp'], data['PrecpHour']],axis=1)\n",
        "intensity = new_data2.apply(cal_intensity, axis=1)\n",
        "\n",
        "# 計算是否大於平均降水強度\n",
        "avg = intensity.mean()\n",
        "is_heavy = pd.DataFrame(intensity>avg)\n",
        "new_data2 = pd.concat([data['Precp'], data['PrecpHour'], intensity, is_heavy],axis=1)\n",
        "new_data2.columns = ['降水量','降水時數','降水強度','是否大於平均降水強度']\n",
        "new_data2.index = np.arange(1, length+1)\n",
        "\n",
        "#降水強度大於平均降水強度的相關資訊\n",
        "\n",
        "# print\n",
        "print(new_data2)"
      ],
      "metadata": {
        "colab": {
          "base_uri": "https://localhost:8080/"
        },
        "id": "C-R4grc2c20J",
        "outputId": "29ee47f1-baee-4ddd-fdd6-1d6084d68db8"
      },
      "execution_count": 7,
      "outputs": [
        {
          "output_type": "stream",
          "name": "stdout",
          "text": [
            "     降水量  降水時數       降水強度  是否大於平均降水強度\n",
            "1      0   0.5   0.000000       False\n",
            "2   91.0   3.6  25.277778        True\n",
            "3      0   0.2   0.000000       False\n",
            "4    2.0   0.7   2.857143       False\n",
            "5    1.0   0.8   1.250000       False\n",
            "6    0.5   0.9   0.555556       False\n",
            "7   36.5   2.8  13.035714        True\n",
            "8    0.0   0.0   0.000000       False\n",
            "9   11.5   1.7   6.764706        True\n",
            "10  29.0   3.1   9.354839        True\n",
            "11   2.0   2.6   0.769231       False\n",
            "12   3.5   2.7   1.296296       False\n",
            "13   0.0   0.0   0.000000       False\n",
            "14   0.0   0.0   0.000000       False\n",
            "15  20.5   2.5   8.200000        True\n",
            "16  19.0   2.1   9.047619        True\n",
            "17  28.0   4.3   6.511628        True\n",
            "18  46.5   3.6  12.916667        True\n",
            "19   0.0   0.0   0.000000       False\n",
            "20   0.0   0.0   0.000000       False\n",
            "21   0.0   0.0   0.000000       False\n",
            "22   0.0   0.0   0.000000       False\n",
            "23   0.0   0.0   0.000000       False\n",
            "24     0   0.8   0.000000       False\n",
            "25   0.0   0.0   0.000000       False\n",
            "26   0.0   0.0   0.000000       False\n",
            "27   0.0   0.0   0.000000       False\n",
            "28   6.5   4.2   1.547619       False\n",
            "29     0   0.1   0.000000       False\n",
            "30     0   0.1   0.000000       False\n",
            "31   0.0   0.0   0.000000       False\n"
          ]
        },
        {
          "output_type": "stream",
          "name": "stderr",
          "text": [
            "<ipython-input-7-cfb57b89ff0c>:4: SettingWithCopyWarning: \n",
            "A value is trying to be set on a copy of a slice from a DataFrame\n",
            "\n",
            "See the caveats in the documentation: https://pandas.pydata.org/pandas-docs/stable/user_guide/indexing.html#returning-a-view-versus-a-copy\n",
            "  data['Precp'][data['Precp']=='T']=0\n"
          ]
        }
      ]
    },
    {
      "cell_type": "markdown",
      "source": [
        "## matplotlib"
      ],
      "metadata": {
        "id": "u95xhcVfcZW7"
      }
    },
    {
      "cell_type": "code",
      "source": [
        "# import\n",
        "import matplotlib.pyplot as plt\n",
        "import pandas as pd\n",
        "import numpy as np\n",
        "\n",
        "from matplotlib.patches import Circle, RegularPolygon"
      ],
      "metadata": {
        "id": "D2Dxjfg_cida"
      },
      "execution_count": 8,
      "outputs": []
    },
    {
      "cell_type": "markdown",
      "source": [
        "### 練習 1：折線圖"
      ],
      "metadata": {
        "id": "aXud52Avcbba"
      }
    },
    {
      "cell_type": "code",
      "source": [
        "# read data\n",
        "data = pd.read_csv('./data/467410-2022-08.csv', skiprows=1)\n",
        "Temp = data['Temperature'].to_numpy()\n",
        "Precp = data['Precp'].to_numpy()\n",
        "length = len(Temp)\n",
        "day = np.arange(length)+1\n",
        "\n",
        "# setting\n",
        "fig, ax = plt.subplots(1, 2,figsize=(9, 6))\n",
        "Precp[Precp=='T'] = 0.0\n",
        "\n",
        "# plot\n",
        "ax[0].plot(day, Temp)\n",
        "ax[0].set_title(\"Temperature\")\n",
        "ax[0].set_xlabel(\"day\")\n",
        "ax[0].set_ylabel(\"Temperature(℃)\")\n",
        "ax[1].plot(day, Precp)\n",
        "ax[1].set_title(\"Precp\")\n",
        "ax[1].set_xlabel(\"day\")\n",
        "ax[1].set_ylabel(\"Precp(mm)\")\n",
        "plt.show()"
      ],
      "metadata": {
        "colab": {
          "base_uri": "https://localhost:8080/",
          "height": 564
        },
        "id": "C6I5xxyedbsy",
        "outputId": "0f86d327-f475-4c2e-8c14-433eeae7eb0d"
      },
      "execution_count": 9,
      "outputs": [
        {
          "output_type": "display_data",
          "data": {
            "text/plain": [
              "<Figure size 900x600 with 2 Axes>"
            ],
            "image/png": "[encoded data removed]"
          },
          "metadata": {}
        }
      ]
    },
    {
      "cell_type": "markdown",
      "source": [
        "### 練習 2：雷達圖"
      ],
      "metadata": {
        "id": "j5C-5CYjcfjJ"
      }
    },
    {
      "cell_type": "code",
      "source": [
        "# read data\n",
        "data = pd.read_csv('./data/467410-2022-08.csv', skiprows=1)\n",
        "WD = data['WD'].to_numpy() # 風速\n",
        "WS = data['WS'].to_numpy() # 風速\n",
        "\n",
        "# 我使用圓形的雷達圖而不是多邊形的雷達圖，因為比較簡單\n",
        "fig, ax = plt.subplots(subplot_kw=dict(projection='polar'))\n",
        "ax.set_thetagrids( range(45,360,90), ('0~90', '90~180', '180~270', '270~360') )\n",
        "# ax.set_thetagrids( range(45,360,90))\n",
        "# ax.set_theta_offset(np.pi / 4)\n",
        "\n",
        "Quad_avg = np.array([0.0]*4)\n",
        "Quad_avg[0] = WS[np.logical_and(WD>=0,WD<90)].mean() # for 0<=deg<90\n",
        "Quad_avg[1] = WS[np.logical_and(WD>=90,WD<180)].mean() # for 90<=deg<180\n",
        "Quad_avg[2] = WS[np.logical_and(WD>=180,WD<270)].mean() # for 180<=deg<270\n",
        "Quad_avg[3] = WS[np.logical_and(WD>=270,WD<360)].mean() # for 270<=deg<360\n",
        "# 這一行搞我有夠久，結果問題竟然是出在要用弧度制\n",
        "WD_point = [np.pi/4, 3*np.pi/4, 5*np.pi/4, 7*np.pi/4] # 風向代表點\n",
        "# 雷達圖要首尾相接\n",
        "Quad_avg=np.concatenate((Quad_avg,[Quad_avg[0]]))\n",
        "WD_point=np.concatenate((WD_point,[WD_point[0]]))\n",
        "\n",
        "# print\n",
        "# print(WD_point)\n",
        "# print(Quad_avg)\n",
        "ax.plot(WD_point, Quad_avg)\n",
        "plt.show()"
      ],
      "metadata": {
        "colab": {
          "base_uri": "https://localhost:8080/",
          "height": 406
        },
        "id": "M8a0Gn3Bcj6o",
        "outputId": "15823f30-2c0b-40cc-f1ed-ce591e13cc33"
      },
      "execution_count": 10,
      "outputs": [
        {
          "output_type": "display_data",
          "data": {
            "text/plain": [
              "<Figure size 640x480 with 1 Axes>"
            ],
            "image/png": "[encoded data removed]"
          },
          "metadata": {}
        }
      ]
    },
    {
      "cell_type": "markdown",
      "source": [
        "## scikit-learn"
      ],
      "metadata": {
        "id": "u7D7DDskDLas"
      }
    },
    {
      "cell_type": "code",
      "source": [
        "# import\n",
        "import sklearn\n",
        "import numpy as np\n",
        "import pandas as pd\n",
        "import matplotlib.pyplot as plt\n",
        "import seaborn as sns\n",
        "import pickle"
      ],
      "metadata": {
        "id": "RLgQw_G3DgwA"
      },
      "execution_count": 11,
      "outputs": []
    },
    {
      "cell_type": "markdown",
      "source": [
        "### 練習 1：改善決策樹分類模型"
      ],
      "metadata": {
        "id": "hl5lZ-vCDUX_"
      }
    },
    {
      "cell_type": "code",
      "source": [
        "pd.options.mode.chained_assignment = None  # default='warn'\n",
        "# 匯入填補缺失值的工具\n",
        "from sklearn.impute import SimpleImputer\n",
        "# 匯入 Label Encoder\n",
        "from sklearn.preprocessing import LabelEncoder\n",
        "# 匯入標準化的工具\n",
        "from sklearn.preprocessing import StandardScaler\n",
        "# 匯入決策樹模型\n",
        "from sklearn.tree import DecisionTreeClassifier\n",
        "# 匯入準確度計算工具\n",
        "from sklearn.metrics import accuracy_score\n",
        "# 匯入 train_test_split 工具\n",
        "from sklearn.model_selection import train_test_split\n",
        "\n",
        "df = pd.read_csv('./data/train.csv')\n",
        "\n",
        "# 取出訓練資料需要分析的資料欄位\n",
        "df_x = df[['Sex', 'Age', 'Fare']]\n",
        "# 取出訓練資料的答案\n",
        "df_y = df['Survived']\n",
        "\n",
        "# 數值型態資料前處理\n",
        "# 創造 imputer 並設定填補策略\n",
        "imputer = SimpleImputer(strategy='median')\n",
        "age = df_x['Age'].to_numpy().reshape(-1, 1)\n",
        "# 根據資料學習需要填補的值\n",
        "imputer.fit(age)\n",
        "# 填補缺失值\n",
        "# df_x.loc[:,'Age'] = imputer.transform(age)\n",
        "df_x['Age'] = imputer.transform(age)\n",
        "\n",
        "# 類別型態資料前處理\n",
        "# 創造 Label Encoder\n",
        "le = LabelEncoder()\n",
        "# 給予每個類別一個數值\n",
        "le.fit(df_x['Sex'])\n",
        "# 轉換所有類別成為數值\n",
        "df_x['Sex'] = le.transform(df_x['Sex'])\n",
        "\n",
        "#把標準化做在訓練資料上，不要做在特徵資料(有差嗎?)\n",
        "\n",
        "# 去除離群值\n",
        "df_x = df_x.to_numpy()\n",
        "df_y = df_y.to_numpy()\n",
        "q1, q3 = np.quantile(df_x[:,1], [0.25, 0.75]) # 計算第一與第三四分位數\n",
        "low = q1-1.5*(q3-q1) # 計算下界\n",
        "high = q3+1.5*(q3-q1) # 計算上界\n",
        "index = np.where((df_x[:,1]>=low)&(df_x[:,1]<=high))\n",
        "df_x = df_x[index] # 濾除離群值\n",
        "df_y = df_y[index]\n",
        "\n",
        "# 分割 train and test sets，random_state 固定為 1012\n",
        "train_x, test_x, train_y, test_y = train_test_split(df_x, df_y, train_size=0.8, random_state=1012)\n",
        "\n",
        "# 標準化\n",
        "normalizer = StandardScaler()\n",
        "normalizer.fit(train_x)\n",
        "train_x = normalizer.transform(train_x)\n",
        "test_x = normalizer.transform(test_x)\n",
        "\n",
        "# 創造決策樹模型\n",
        "model = DecisionTreeClassifier(\n",
        "    random_state=1012,\n",
        "    criterion='entropy',\n",
        "    max_depth=3,\n",
        "    )\n",
        "\n",
        "# 訓練決策樹模型\n",
        "model.fit(train_x, train_y)\n",
        "\n",
        "# 確認模型是否訓練成功\n",
        "pred_train = model.predict(train_x)\n",
        "# 計算準確度\n",
        "train_acc = accuracy_score(train_y, pred_train)\n",
        "\n",
        "# 輸出準確度\n",
        "print('train accuracy: {}'.format(train_acc))\n",
        "\n",
        "# 確認模型是否訓練成功\n",
        "pred_test = model.predict(test_x)\n",
        "# 計算準確度\n",
        "test_acc = accuracy_score(test_y, pred_test)\n",
        "\n",
        "# 輸出準確度\n",
        "print('test accuracy: {}'.format(test_acc))"
      ],
      "metadata": {
        "colab": {
          "base_uri": "https://localhost:8080/"
        },
        "id": "0iyDbvIlDeRE",
        "outputId": "f1b43786-f309-441b-b500-f3c1539291c4"
      },
      "execution_count": 101,
      "outputs": [
        {
          "output_type": "stream",
          "name": "stdout",
          "text": [
            "train accuracy: 0.8136363636363636\n",
            "test accuracy: 0.8181818181818182\n"
          ]
        }
      ]
    },
    {
      "cell_type": "markdown",
      "source": [
        "### 練習 2：使用不同的模型"
      ],
      "metadata": {
        "id": "nk1HyObHDezd"
      }
    },
    {
      "cell_type": "code",
      "source": [
        "pd.options.mode.chained_assignment = None  # default='warn'\n",
        "# 匯入填補缺失值的工具\n",
        "from sklearn.impute import SimpleImputer\n",
        "# 匯入 Label Encoder\n",
        "from sklearn.preprocessing import LabelEncoder\n",
        "# 匯入標準化的工具\n",
        "from sklearn.preprocessing import StandardScaler\n",
        "# 匯入模型\n",
        "from sklearn.ensemble import GradientBoostingClassifier\n",
        "# 匯入準確度計算工具\n",
        "from sklearn.metrics import accuracy_score\n",
        "\n",
        "df = pd.read_csv('./data/train.csv')\n",
        "\n",
        "# 取出訓練資料需要分析的資料欄位\n",
        "df_x = df[['Sex', 'Age', 'Fare']]\n",
        "# 取出訓練資料的答案\n",
        "df_y = df['Survived']\n",
        "\n",
        "# 數值型態資料前處理\n",
        "# 創造 imputer 並設定填補策略\n",
        "imputer = SimpleImputer(strategy='median')\n",
        "age = df_x['Age'].to_numpy().reshape(-1, 1)\n",
        "# 根據資料學習需要填補的值\n",
        "imputer.fit(age)\n",
        "# 填補缺失值(我這樣寫是為了避免警告)\n",
        "df_x['Age'] = imputer.transform(age)\n",
        "\n",
        "# 類別型態資料前處理\n",
        "# 創造 Label Encoder\n",
        "le = LabelEncoder()\n",
        "# 給予每個類別一個數值\n",
        "le.fit(df_x['Sex'])\n",
        "# 轉換所有類別成為數值\n",
        "df_x['Sex'] = le.transform(df_x['Sex'])\n",
        "\n",
        "# 去除離群值\n",
        "# if(type(df_x)==pd.DataFrame):\n",
        "#   df_x = df_x.to_numpy()\n",
        "#   df_y = df_y.to_numpy()\n",
        "# q1, q3 = np.quantile(df_x[:,1], [0.25, 0.75]) # 計算第一與第三四分位數\n",
        "# low = q1-1.5*(q3-q1) # 計算下界\n",
        "# high = q3+1.5*(q3-q1) # 計算上界\n",
        "# index = np.where((df_x[:,1]>=low)&(df_x[:,1]<=high))\n",
        "# df_x = df_x[index] # 濾除離群值\n",
        "# df_y = df_y[index]\n",
        "\n",
        "# 分割 train and test sets，random_state 固定為 1012\n",
        "train_x, test_x, train_y, test_y = train_test_split(df_x, df_y, train_size=0.8, random_state=1012)\n",
        "\n",
        "# 標準化\n",
        "normalizer = StandardScaler()\n",
        "normalizer.fit(train_x)\n",
        "train_x = normalizer.transform(train_x)\n",
        "test_x = normalizer.transform(test_x)\n",
        "\n",
        "# 創造模型\n",
        "model = GradientBoostingClassifier(\n",
        "    random_state=1012,\n",
        "    n_estimators=20,\n",
        "    loss='exponential',\n",
        "    max_depth=4,\n",
        "    )\n",
        "\n",
        "# 訓練模型\n",
        "model.fit(train_x, train_y)\n",
        "\n",
        "# 確認模型是否訓練成功\n",
        "pred_train = model.predict(train_x)\n",
        "# 計算準確度\n",
        "train_acc = accuracy_score(train_y, pred_train)\n",
        "\n",
        "# 輸出準確度\n",
        "print('train accuracy: {}'.format(train_acc))\n",
        "\n",
        "# 確認模型是否訓練成功\n",
        "pred_test = model.predict(test_x)\n",
        "# 計算準確度\n",
        "test_acc = accuracy_score(test_y, pred_test)\n",
        "\n",
        "# 輸出準確度\n",
        "print('test accuracy: {}'.format(test_acc))"
      ],
      "metadata": {
        "colab": {
          "base_uri": "https://localhost:8080/"
        },
        "id": "JxZTABMnDgAn",
        "outputId": "a853b569-0119-41ca-dc74-c3c3d2f4654e"
      },
      "execution_count": 104,
      "outputs": [
        {
          "output_type": "stream",
          "name": "stdout",
          "text": [
            "train accuracy: 0.851123595505618\n",
            "test accuracy: 0.8156424581005587\n"
          ]
        }
      ]
    }
  ]
}